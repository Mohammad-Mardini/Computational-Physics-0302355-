{
  "nbformat": 4,
  "nbformat_minor": 0,
  "metadata": {
    "colab": {
      "provenance": []
    },
    "kernelspec": {
      "name": "python3",
      "display_name": "Python 3"
    },
    "language_info": {
      "name": "python"
    }
  },
  "cells": [
    {
      "cell_type": "markdown",
      "source": [
        "\n",
        "## 📘 Step-by-Step Solutions\n",
        "\n",
        "### 1️⃣ Integral of\n",
        "$$\n",
        "\\int_{0}^{\\pi} \\frac{1}{\\sqrt{x}}  dx\n",
        "$$\n",
        "\n",
        "$$\n",
        "= \\int_{0}^{\\pi} x^{-1/2}  dx\n",
        "= \\left[ \\frac{x^{1/2}}{1/2} \\right]_0^{\\pi}\n",
        "= \\left[ 2\\sqrt{x} \\right]_0^{\\pi}\n",
        "= 2\\sqrt{\\pi} - 0\n",
        "= 2\\sqrt{\\pi}\n",
        "$$\n",
        "\n",
        "---\n",
        "\n",
        "### 2️⃣ Integral of\n",
        "\n",
        "$$\n",
        "\\int_{-5}^{5} x^2 \\sin(x) \\, dx\n",
        "$$\n",
        "\n",
        "Note: x^2 \\sin(x) is an **odd function**:\n",
        "\n",
        "$$\n",
        "f(-x) = (-x)^2 \\cdot \\sin(-x) = x^2 \\cdot (-\\sin(x)) = -f(x)\n",
        "$$\n",
        "\n",
        "So, the integral of an odd function over a symmetric interval is 0:\n",
        "\n",
        "$$\n",
        "\\therefore \\int_{-5}^{5} x^2 \\sin(x) \\, dx = 0\n",
        "$$\n",
        "\n",
        "---\n",
        "\n",
        "### 3️⃣ Average value of `f(x) = x` over `[-1, 2]`\n",
        "\n",
        "Average value of a function over \\([a, b]\\) is:\n",
        "\n",
        "$$\n",
        "\\text{Average} = \\frac{1}{b - a} \\int_{a}^{b} f(x) \\, dx\n",
        "= \\frac{1}{2 - (-1)} \\int_{-1}^{2} x \\, dx\n",
        "= \\frac{1}{3} \\left[ \\frac{x^2}{2} \\right]_{-1}^{2}\n",
        "= \\frac{1}{3} \\left( \\frac{4}{2} - \\frac{1}{2} \\right)\n",
        "= \\frac{1}{3} \\cdot \\frac{3}{2}\n",
        "= \\frac{1}{2}\n",
        "$$\n"
      ],
      "metadata": {
        "id": "lgkTCdcqkPxd"
      }
    },
    {
      "cell_type": "markdown",
      "source": [
        "## Import the packages"
      ],
      "metadata": {
        "id": "pum-Mjubkr_I"
      }
    },
    {
      "cell_type": "code",
      "source": [
        "import numpy as np\n",
        "from scipy.integrate import quad\n"
      ],
      "metadata": {
        "id": "v6rZK1bbkTRk"
      },
      "execution_count": 3,
      "outputs": []
    },
    {
      "cell_type": "markdown",
      "source": [
        "## Solution of problem 1"
      ],
      "metadata": {
        "id": "aor4X_WVkvsO"
      }
    },
    {
      "cell_type": "code",
      "source": [
        "f1 = lambda x: 1 / np.sqrt(x)\n",
        "integral_1, _ = quad(f1, 0, np.pi)\n",
        "print(f\"1. Integral of 1/sqrt(x) from 0 to pi ≈ {integral_1}\")\n",
        "\n"
      ],
      "metadata": {
        "colab": {
          "base_uri": "https://localhost:8080/"
        },
        "id": "eZCoCYMEkpOa",
        "outputId": "8acc2288-3c41-4e84-ce6c-ff37d8599a18"
      },
      "execution_count": 4,
      "outputs": [
        {
          "output_type": "stream",
          "name": "stdout",
          "text": [
            "1. Integral of 1/sqrt(x) from 0 to pi ≈ 3.544907701811\n"
          ]
        }
      ]
    },
    {
      "cell_type": "markdown",
      "source": [
        "## Solution of problem 2"
      ],
      "metadata": {
        "id": "1DrEJh3Wk2Mp"
      }
    },
    {
      "cell_type": "code",
      "source": [
        "f2 = lambda x: x**2 * np.sin(x)\n",
        "integral_2, _ = quad(f2, -5, 5)\n",
        "\n",
        "\n",
        "print(f\"2. Integral of x^2 * sin(x) from -5 to 5 ≈ {integral_2}\")\n"
      ],
      "metadata": {
        "colab": {
          "base_uri": "https://localhost:8080/"
        },
        "id": "28nD6V8Hkh7E",
        "outputId": "0b5bf607-077a-4811-fa0f-caa0274e8719"
      },
      "execution_count": 5,
      "outputs": [
        {
          "output_type": "stream",
          "name": "stdout",
          "text": [
            "2. Integral of x^2 * sin(x) from -5 to 5 ≈ 0.0\n"
          ]
        }
      ]
    },
    {
      "cell_type": "markdown",
      "source": [
        "## Solution of problem 3"
      ],
      "metadata": {
        "id": "4OXkpaUek3u3"
      }
    },
    {
      "cell_type": "code",
      "source": [
        "f3 = lambda x: x\n",
        "a, b = -1, 2\n",
        "integral_3, _ = quad(f3, a, b)\n",
        "average_value = integral_3 / (b - a)\n",
        "\n",
        "print(f\"3. Average value of f(x) = x from -1 to 2 ≈ {average_value}\")\n"
      ],
      "metadata": {
        "colab": {
          "base_uri": "https://localhost:8080/"
        },
        "id": "tGlFEv0ZkmFa",
        "outputId": "0e770572-4f58-483f-9774-d7ab3a60fc92"
      },
      "execution_count": 6,
      "outputs": [
        {
          "output_type": "stream",
          "name": "stdout",
          "text": [
            "3. Average value of f(x) = x from -1 to 2 ≈ 0.49999999999999994\n"
          ]
        }
      ]
    },
    {
      "cell_type": "code",
      "source": [],
      "metadata": {
        "id": "atWMra_skqxb"
      },
      "execution_count": null,
      "outputs": []
    }
  ]
}