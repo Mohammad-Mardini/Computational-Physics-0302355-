{
  "nbformat": 4,
  "nbformat_minor": 0,
  "metadata": {
    "colab": {
      "provenance": []
    },
    "kernelspec": {
      "name": "python3",
      "display_name": "Python 3"
    },
    "language_info": {
      "name": "python"
    }
  },
  "cells": [
    {
      "cell_type": "markdown",
      "source": [
        "\n",
        "\n",
        "<div align=\"center\">\n",
        "    <h2>This notebook provides the step-by-step manual solution to the midterm exam.</h2>\n",
        "</div>"
      ],
      "metadata": {
        "id": "inhn_wOAkfZ-"
      }
    },
    {
      "cell_type": "markdown",
      "source": [
        "Problem 1: Calculate the electric field induced by a uniformly charged straight line of length 1.0 m at a point located at a vertical distance ( 0.5 m) above the center of the line---i.e., along the perpendicular bisector of the line. The wire carries a uniform linear charge density $\\lambda = 1\\times10^{-6}$ C/m. Note that the vacuum permittivity constant $\\varepsilon_0$ = $8.854\\times10^{-12}$.\n",
        "\n",
        "\n",
        "$$\n",
        "E_y = \\frac{1}{4\\pi\\varepsilon_0} \\int_{-L/2}^{L/2} \\frac{\\lambda d}{(x^2 + d^2)^{3/2}} \\, dx\n",
        "$$"
      ],
      "metadata": {
        "id": "4bFgzcP4lIT3"
      }
    },
    {
      "cell_type": "code",
      "source": [
        "import numpy as np\n",
        "from scipy.integrate import quad\n",
        "\n",
        "# Constants\n",
        "L = 1.0  # Length of the wire (m)\n",
        "d = 0.5  # Distance from the wire to the observation point (m)\n",
        "lambda_ = 10**-6  # Linear charge density (C/m)\n",
        "epsilon_0 = 8.854*10**-12  # Vacuum permittivity (C^2/(N·m^2))\n",
        "k = 1 / (4 * np.pi * epsilon_0)  # Coulomb's constant\n",
        "\n",
        "\n",
        "# Define the integrand\n",
        "def integrand(x):\n",
        "    return lambda_ * d / ((x**2 + d**2)**(1.5))\n",
        "\n",
        "# Perform the integration\n",
        "result, error = quad(integrand, -L/2, L/2)\n",
        "\n",
        "# Calculate the electric field\n",
        "E_y = k * result\n",
        "\n",
        "print(f\"The electric field at the point is E_y = {E_y:.3e} N/C\")\n"
      ],
      "metadata": {
        "colab": {
          "base_uri": "https://localhost:8080/"
        },
        "id": "_de0kgkzkpkU",
        "outputId": "0a138ce5-895e-41f5-f01d-f28aab2f160e"
      },
      "execution_count": null,
      "outputs": [
        {
          "output_type": "stream",
          "name": "stdout",
          "text": [
            "The electric field at the point is E_y = 2.542e+04 N/C\n"
          ]
        }
      ]
    },
    {
      "cell_type": "markdown",
      "source": [],
      "metadata": {
        "id": "w4yrdc1ymkUM"
      }
    },
    {
      "cell_type": "markdown",
      "source": [
        "Problem 2: A solid sphere of radius R = 0.1 m carries a uniform surface charge density $\\sigma = 2.0 \\times 10^{-6} {(C/m)}^2$ and rotates with angular velocity $\\omega = 120 rad/s$ around the $z-$axis. Calculate the magnetic field at a point located on the $z-$axis at a distance r = 2R from the center of the sphere. Use  $\\mu_0 = 4\\pi \\times 10^{-7} T \\cdot m/A$ \\).\n",
        "\n",
        "\n",
        "\n",
        "$$\n",
        "\\vec{B} = \\frac{\\mu_0}{4\\pi} \\int_0^\\pi \\int_0^{2\\pi} \\frac{- \\sigma \\omega \\left( R \\sin\\theta \\cos\\phi \\right) \\left( 2R - R \\cos\\theta \\right)}{ \\left( R^2 \\sin^2\\theta + (2R - R \\cos\\theta)^2 \\right)^{3/2}} \\, d\\phi \\, d\\theta \\, \\hat{y}\n",
        "$$"
      ],
      "metadata": {
        "id": "ZmItq_XMmkXF"
      }
    },
    {
      "cell_type": "code",
      "source": [
        "import numpy as np\n",
        "from scipy.integrate import quad\n",
        "\n",
        "# Constants\n",
        "R = 0.1  # Radius in meters\n",
        "sigma = 2.0e-6  # Surface charge density in C/m^2\n",
        "omega = 120  # Angular velocity in rad/s\n",
        "mu_0 = 4 * np.pi * 1e-7  # Magnetic constant (T·m/A)\n",
        "\n",
        "# Step 1: Define the full integrand over phi, parameterized by theta\n",
        "def phi_integrand(phi, theta):\n",
        "    sin_theta = np.sin(theta)\n",
        "    cos_theta = np.cos(theta)\n",
        "    cos_phi = np.cos(phi)\n",
        "\n",
        "    numerator = -sigma * omega * R * sin_theta * cos_phi * (2 * R - R * cos_theta)\n",
        "    denominator = (R**2 * sin_theta**2 + (2 * R - R * cos_theta)**2)**(1.5)\n",
        "\n",
        "    return numerator / denominator\n",
        "\n",
        "# Step 2: Define a function to compute the inner integral over phi for a given theta\n",
        "def compute_inner_phi_integral(theta):\n",
        "    result_phi, _ = quad(phi_integrand, 0, 2 * np.pi, args=(theta,))\n",
        "    return result_phi\n",
        "\n",
        "# Step 3: Define a function to compute the full outer integral over theta\n",
        "def compute_magnetic_field():\n",
        "    result_theta, _ = quad(compute_inner_phi_integral, 0, np.pi)\n",
        "    return (mu_0 / (4 * np.pi)) * result_theta\n",
        "\n",
        "# Compute the magnetic field\n",
        "B_y = compute_magnetic_field()\n",
        "\n",
        "print(f\"The magnetic field at r = 2R on the z-axis is B_y = {B_y:.3e} T in the y-direction.\")\n"
      ],
      "metadata": {
        "colab": {
          "base_uri": "https://localhost:8080/"
        },
        "id": "sv8K2QL-lCoP",
        "outputId": "abea52cd-ae9d-4adc-9faa-ac9d39482082"
      },
      "execution_count": null,
      "outputs": [
        {
          "output_type": "stream",
          "name": "stdout",
          "text": [
            "The magnetic field at r = 2R on the z-axis is B_y = -3.042e-26 T in the y-direction.\n"
          ]
        }
      ]
    },
    {
      "cell_type": "code",
      "source": [],
      "metadata": {
        "id": "eXUn5O1prC-K"
      },
      "execution_count": null,
      "outputs": []
    }
  ]
}